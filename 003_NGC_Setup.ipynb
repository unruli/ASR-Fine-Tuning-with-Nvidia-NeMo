{
 "cells": [
  {
   "cell_type": "markdown",
   "id": "e1c60851",
   "metadata": {},
   "source": [
    "<a href=\"https://www.nvidia.com/dli\"> <img src=\"images/DLI_Header.png\" alt=\"Header\" style=\"width: 400px;\"/> </a>"
   ]
  },
  {
   "cell_type": "markdown",
   "id": "fa2d953b-4ed1-4e72-9383-811cece14bc5",
   "metadata": {},
   "source": [
    "**This setup is required before continuing to other notebooks.**\n",
    "\n",
    "The NGC™ catalog is a hub of GPU-optimized AI, high-performance computing (HPC), and data analytics software that simplifies and accelerates end-to-end workflows. It includes enterprise-grade containers, pretrained AI models, and industry-specific SDKs. In this class, you'll install various speech AI resources this way and you'll need an NVIDIA GPU Cloud (NGC) account and API key.  For more information on NGC, please refer to the [NGC Overview](https://docs.nvidia.com/ngc/gpu-cloud/ngc-overview/index.html#accessing-ngc-softwarehttps://docs.nvidia.com/ngc/gpu-cloud/ngc-overview/index.html#accessing-ngc-software) documentation.<br>\n",
    "\n",
    "If you have not done so already, please\n",
    "1. [Log into NGC with your NVIDIA account](https://ngc.nvidia.com/signin)\n",
    "    - If you haven't logged in to NGC before, complete the registration process following the prompts\n",
    "3. [Generate your NGC API key](https://ngc.nvidia.com/setup/api-key) and save it in a safe location\n",
    "   - Go to to the _Setup_ submenu under your login name in the upper right corner\n",
    "   - Choose \"Get API Key\" and follow the instructions provided there\n",
    "\n",
    "Once you have your API key, complete the following steps to log in to Docker and set up NGC CLI credentials so that you can access containers and models later in the course. "
   ]
  },
  {
   "cell_type": "markdown",
   "id": "d7a0be35",
   "metadata": {},
   "source": [
    "## Step 1: Log In to the NGC Registry from Docker\n",
    "\n",
    "Edit the following cell by replacing **MY_NGC_API_KEY** with your key. Then, execute both cells.  This step will log you into the NGC Docker registry so you will be able to pull containers from NGC.  This is required in order to use the Riva Speech server."
   ]
  },
  {
   "cell_type": "code",
   "execution_count": 1,
   "id": "5b4ee65f",
   "metadata": {
    "tags": []
   },
   "outputs": [],
   "source": [
    "# Replace MY_NGC_API_KEY with your generated NGC API key\n",
    "api_key = \"NGZkNjl2bDg3Z2RmOHM1YjBuZjY3bDIyMTY6ZTI4MGM5YmYtYmJjMy00ODU1LTlkMTgtYTg5OTg0NzY2OWE1\""
   ]
  },
  {
   "cell_type": "code",
   "execution_count": 2,
   "id": "e45b63ef-b599-4ab3-aa2f-6234d9e3c121",
   "metadata": {},
   "outputs": [],
   "source": [
    "import os\n",
    "os.environ[\"api_key\"] = api_key"
   ]
  },
  {
   "cell_type": "code",
   "execution_count": 3,
   "id": "7a5459af",
   "metadata": {},
   "outputs": [
    {
     "name": "stdout",
     "output_type": "stream",
     "text": [
      "WARNING! Using --password via the CLI is insecure. Use --password-stdin.\n",
      "WARNING! Your password will be stored unencrypted in /root/.docker/config.json.\n",
      "Configure a credential helper to remove this warning. See\n",
      "https://docs.docker.com/engine/reference/commandline/login/#credentials-store\n",
      "\n",
      "Login Succeeded\n"
     ]
    }
   ],
   "source": [
    "!docker login -u '$oauthtoken' -p $api_key nvcr.io"
   ]
  },
  {
   "cell_type": "markdown",
   "id": "fd765475",
   "metadata": {},
   "source": [
    "## Step 2: NGC CLI Configuration\n",
    "The [NGC command line](https://docs.ngc.nvidia.com/cli/cmd.html) utility enables you to conveniently pull models and resources from NGC using your API key.  The NGC CLI utility is already installed for the course, but it needs to be configured. \n",
    "\n",
    "Execute the next two cells to configure NGC CLI with the API key which you used in the previous step. Note that you can also configure NGC CLI from a terminal, which would create the config file using a dialog.  We are doing it this way for convenience.  "
   ]
  },
  {
   "cell_type": "code",
   "execution_count": 4,
   "id": "a07924de-218b-4b1d-a520-8e31611f0ddc",
   "metadata": {},
   "outputs": [],
   "source": [
    "%%bash\n",
    "cat << EOF >> config\n",
    ";WARNING - This is a machine generated file.  Do not edit manually.\n",
    ";WARNING - To update local config settings, see \"ngc config set -h\"\n",
    "\n",
    "[CURRENT]\n",
    "apikey = $api_key\n",
    "format_type = json\n",
    "org = nvidia\n",
    "EOF"
   ]
  },
  {
   "cell_type": "code",
   "execution_count": 5,
   "id": "e66b7bae",
   "metadata": {},
   "outputs": [],
   "source": [
    "%%bash\n",
    "mkdir -p ~/.ngc\n",
    "mv config ~/.ngc/"
   ]
  },
  {
   "cell_type": "markdown",
   "id": "17125bf5",
   "metadata": {},
   "source": [
    "---\n",
    "<h2 style=\"color:green;\">Congratulations!</h2>\n",
    "\n",
    "You've learned how to:\n",
    "- Log into Docker for access to the NGC registry with your API key\n",
    "- Configure NGC CLI with your API key so that you can download prebuilt ASR pipeline components with the `ngc` command\n",
    "\n",
    "Move on to the [Quick Start Riva Deployment notebook](004_Quick_Start_Deploy_ASR_Pipeline.ipynb)."
   ]
  },
  {
   "cell_type": "markdown",
   "id": "e22e7415",
   "metadata": {},
   "source": [
    "<a href=\"https://www.nvidia.com/dli\"> <img src=\"images/DLI_Header.png\" alt=\"Header\" style=\"width: 400px;\"/> </a>"
   ]
  }
 ],
 "metadata": {
  "kernelspec": {
   "display_name": "Python 3 (ipykernel)",
   "language": "python",
   "name": "python3"
  },
  "language_info": {
   "codemirror_mode": {
    "name": "ipython",
    "version": 3
   },
   "file_extension": ".py",
   "mimetype": "text/x-python",
   "name": "python",
   "nbconvert_exporter": "python",
   "pygments_lexer": "ipython3",
   "version": "3.8.10"
  }
 },
 "nbformat": 4,
 "nbformat_minor": 5
}
