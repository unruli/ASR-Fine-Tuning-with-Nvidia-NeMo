{
 "cells": [
  {
   "cell_type": "markdown",
   "id": "d7a0be35",
   "metadata": {},
   "source": []
  },
  {
   "cell_type": "markdown",
   "id": "f86c4c01",
   "metadata": {},
   "source": [
    "## Step 1: Log In to the NGC Registry from Docker\n",
    "\n"
   ]
  },
  {
   "cell_type": "code",
   "execution_count": 16,
   "id": "5b4ee65f",
   "metadata": {
    "tags": []
   },
   "outputs": [],
   "source": [
    "# Replace MY_NGC_API_KEY with your generated NGC API key\n",
    "api_key = \"NGZkNjl2bDg3Z2RmOHM1YjBuZjY3bDIyMTY6ZTI4MGM5YmYtYmJjMy00ODU1LTlkMTgtYTg5OTg0NzY2OWE1\""
   ]
  },
  {
   "cell_type": "code",
   "execution_count": 17,
   "id": "e45b63ef-b599-4ab3-aa2f-6234d9e3c121",
   "metadata": {},
   "outputs": [],
   "source": [
    "import os\n",
    "os.environ[\"api_key\"] = api_key"
   ]
  },
  {
   "cell_type": "code",
   "execution_count": 18,
   "id": "7a5459af",
   "metadata": {},
   "outputs": [
    {
     "name": "stderr",
     "output_type": "stream",
     "text": [
      "'docker' is not recognized as an internal or external command,\n",
      "operable program or batch file.\n"
     ]
    }
   ],
   "source": [
    "!docker login -u '$oauthtoken' -p $api_key nvcr.io"
   ]
  },
  {
   "cell_type": "markdown",
   "id": "fd765475",
   "metadata": {},
   "source": [
    "## Step 2: NGC CLI Configuration\n",
    "The [NGC command line](https://docs.ngc.nvidia.com/cli/cmd.html) utility enables you to conveniently pull models and resources from NGC using your API key.  The NGC CLI utility is already installed for the course, but it needs to be configured. \n",
    "\n",
    "Execute the next two cells to configure NGC CLI with the API key which you used in the previous step. Note that you can also configure NGC CLI from a terminal, which would create the config file using a dialog.  We are doing it this way for convenience.  "
   ]
  },
  {
   "cell_type": "code",
   "execution_count": 4,
   "id": "a07924de-218b-4b1d-a520-8e31611f0ddc",
   "metadata": {},
   "outputs": [],
   "source": [
    "%%bash\n",
    "cat << EOF >> config\n",
    ";WARNING - This is a machine generated file.  Do not edit manually.\n",
    ";WARNING - To update local config settings, see \"ngc config set -h\"\n",
    "\n",
    "[CURRENT]\n",
    "apikey = $api_key\n",
    "format_type = json\n",
    "org = nvidia\n",
    "EOF"
   ]
  },
  {
   "cell_type": "code",
   "execution_count": 5,
   "id": "e66b7bae",
   "metadata": {},
   "outputs": [],
   "source": [
    "%%bash\n",
    "mkdir -p ~/.ngc\n",
    "mv config ~/.ngc/"
   ]
  },
  {
   "cell_type": "markdown",
   "id": "17125bf5",
   "metadata": {},
   "source": []
  }
 ],
 "metadata": {
  "kernelspec": {
   "display_name": "Python 3",
   "language": "python",
   "name": "python3"
  },
  "language_info": {
   "codemirror_mode": {
    "name": "ipython",
    "version": 3
   },
   "file_extension": ".py",
   "mimetype": "text/x-python",
   "name": "python",
   "nbconvert_exporter": "python",
   "pygments_lexer": "ipython3",
   "version": "3.12.0"
  }
 },
 "nbformat": 4,
 "nbformat_minor": 5
}
